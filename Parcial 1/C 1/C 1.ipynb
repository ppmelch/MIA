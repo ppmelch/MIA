{
 "cells": [
  {
   "cell_type": "markdown",
   "id": "e6b09018",
   "metadata": {},
   "source": [
    "# Métodos de Inteligencia Artificial\n",
    "## Introducción \n",
    "\n",
    "José Armando Melchor Soto\n"
   ]
  },
  {
   "cell_type": "markdown",
   "id": "624a0b35",
   "metadata": {},
   "source": [
    "---"
   ]
  },
  {
   "cell_type": "markdown",
   "id": "d140b2aa",
   "metadata": {},
   "source": []
  },
  {
   "cell_type": "markdown",
   "id": "49eb5307",
   "metadata": {},
   "source": []
  }
 ],
 "metadata": {
  "kernelspec": {
   "display_name": "Python 3",
   "language": "python",
   "name": "python3"
  },
  "language_info": {
   "codemirror_mode": {
    "name": "ipython",
    "version": 3
   },
   "file_extension": ".py",
   "mimetype": "text/x-python",
   "name": "python",
   "nbconvert_exporter": "python",
   "pygments_lexer": "ipython3",
   "version": "3.13.5"
  }
 },
 "nbformat": 4,
 "nbformat_minor": 5
}
